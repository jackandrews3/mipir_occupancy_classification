{
 "cells": [
  {
   "cell_type": "code",
   "execution_count": 1,
   "metadata": {},
   "outputs": [],
   "source": [
    "# Loading Libraries:"
   ]
  },
  {
   "cell_type": "code",
   "execution_count": 2,
   "metadata": {},
   "outputs": [],
   "source": [
    "import tensorflow as tf\n",
    "from tensorflow import keras\n",
    "import csv\n",
    "import pandas as pd\n",
    "import random\n",
    "from sklearn.datasets import load_files\n",
    "import numpy as np\n",
    "import matplotlib.pyplot as plt\n",
    "import os\n",
    "import glob\n",
    "\n",
    "\n",
    "#additional libraries may be necessary further along"
   ]
  },
  {
   "cell_type": "markdown",
   "metadata": {},
   "source": [
    "Code to combine all CSV files in our folder to one large CSV file "
   ]
  },
  {
   "cell_type": "code",
   "execution_count": 3,
   "metadata": {
    "scrolled": true
   },
   "outputs": [],
   "source": [
    "#all data combined into one CSV\n",
    "from os import chdir\n",
    "\n",
    "chdir(r\"C:/Users/120A-1/Documents/New_DataNN/Data/Classification_NewDataOnly\")\n",
    "extension = 'csv'\n",
    "all_filenames = [i for i in glob.glob('*.{}'.format(extension))]\n",
    "#combine all files in the list\n",
    "combined_csv = pd.concat([pd.read_csv(f) for f in all_filenames ])\n",
    "#export to csv\n",
    "combined_csv.to_csv(r\"C:/Users/120A-1/Documents/New_DataNN/Data/Classification_NewDataOnly/Classification_Data_csv.csv\", index=False, encoding='utf-8-sig')"
   ]
  },
  {
   "cell_type": "markdown",
   "metadata": {},
   "source": [
    "Converting data from the large CSV file into an array:"
   ]
  },
  {
   "cell_type": "code",
   "execution_count": 4,
   "metadata": {},
   "outputs": [],
   "source": [
    "import pandas as pd #already called on in first cell\n",
    "\n",
    "Df = pd.read_csv(r\"C:/Users/120A-1/Documents/New_DataNN/Data/Classification_NewDataOnly/Classification_Data_csv.csv\")\n",
    "dataset = Df.values"
   ]
  },
  {
   "cell_type": "markdown",
   "metadata": {},
   "source": [
    "The code below splits the voltage data where time is equal to zero and then splits them for 36 second batches. The 36 second batches accounts for \"multiple sample issue\" and deletes any that are not equal in length:"
   ]
  },
  {
   "cell_type": "code",
   "execution_count": null,
   "metadata": {
    "scrolled": true
   },
   "outputs": [],
   "source": [
    "import numpy as np #already called on in the first cell\n",
    "from scipy.fftpack import fft\n",
    "from scipy import signal\n",
    "from scipy.signal import lfilter\n",
    "#g = [1, 4, 4, -4, -10, -4, 4, 4, 1]\n",
    "X = dataset[:,1:4] #an array of removing the string values in dataset\n",
    "\n",
    "timeArr = X[:,1] #an array of the time series data from X\n",
    "new = np.array([])\n",
    "a = np.where(timeArr == 0)[0]  \n",
    "c = np.split(X, a , axis=0)\n",
    "del c[0] #splits into data cycles\n",
    "xNew = []\n",
    "yNew = []\n",
    "result_array = np.array([])\n",
    "\n",
    "for i in range(len(c)):\n",
    "    timeBatch = c[i][:, 1]\n",
    "    eachBatch = np.where(timeBatch % 36 == 0)[0] #splits into each 36 second data sample\n",
    "    splitBatch = np.split(c[i], eachBatch, axis = 0)\n",
    "    del splitBatch[0]\n",
    "    #print(len(splitBatch2))\n",
    "    #print(len(splitBatch))\n",
    "for p in range (len(splitBatch)-1):\n",
    "        timeBatch2 = splitBatch[p][:, 1]\n",
    "        eachBatch2 = np.where(timeBatch2 % 26 == 0)[0] #splits into each 36 second data sample\n",
    "        splitBatch2 = np.split(splitBatch[p], [260], axis = 0)\n",
    "        result_array = np.append(result_array, splitBatch2)\n",
    "        #print(len(splitBatch2))\n",
    "        #del splitBatch2[1]\n",
    "        #splitBatch2 = np.array(splitBatch2)\n",
    "        #print(result_array)\n",
    "        #print(len(result_array))\n",
    "        for j in range (len(result_array)):\n",
    "            eachX = []\n",
    "            eachSD = []\n",
    "            eachFFT =[]\n",
    "            eachPower =[]\n",
    "            #print(splitBatch2)\n",
    "            #print(len(splitBatch2))\n",
    "            if len(result_array[j]) == 260:\n",
    "                eachX.append(result_array[j][:, 0]) #appends each sample as an array within the array of cycles\n",
    "                eachSD = np.std(eachX)\n",
    "                eachFFT = fft(eachX)\n",
    "                #eachFilter = lfilter(g, 1, eachX)\n",
    "                eachX.append(eachSD) #appends each cycle to xNew array\n",
    "                eachX.append(eachFFT)\n",
    "                #eachX.append(eachFilter)\n",
    "                xNew.append(eachX)\n",
    "                yNew.append(result_array[j][:, 2])\n",
    "            else:\n",
    "                np.delete(result_array, j) #splits into 36 seconds keeping all in the same sample and removing all that are not 360 datapoints\n",
    "\n",
    "A = pd.DataFrame(xNew)\n",
    "B = pd.DataFrame(yNew)\n",
    "frames = [A,B]\n",
    "result = pd.concat(frames) #dataframe made of the multiple 36 second batches and their labels\n",
    "result"
   ]
  },
  {
   "cell_type": "markdown",
   "metadata": {},
   "source": [
    "Code below makes the dataframe into an array and creates two arrays of features and labels. Reshaping of features to combine them all into one array."
   ]
  },
  {
   "cell_type": "code",
   "execution_count": 16,
   "metadata": {},
   "outputs": [],
   "source": [
    "Array22 = result.values #making result into an array\n",
    "X = Array22[0:3657,0] #raw data feature\n",
    "W = Array22[0:3657,1] #standard deviation feature\n",
    "Z = Array22[0:3657,2] #fourier transform feature\n",
    "Y = Array22[3657:,0] #labels\n",
    "\n",
    "#reshape features to feed into model\n",
    "xT =X.reshape(-1, 1)\n",
    "XX = np.vstack(X)\n",
    "ZZ =Z.reshape(-1, 1)\n",
    "ZZ = np.vstack(Z)\n",
    "ZZZ = abs(ZZ)\n",
    "\n",
    "WW = W.reshape(-1, 1)\n",
    "#Array100 = np.concatenate(XX)\n",
    "Array100=np.concatenate((XX,WW,ZZZ),axis=1)\n",
    "#len(Array100)"
   ]
  },
  {
   "cell_type": "markdown",
   "metadata": {},
   "source": [
    "Loading more libraries:"
   ]
  },
  {
   "cell_type": "code",
   "execution_count": 17,
   "metadata": {},
   "outputs": [],
   "source": [
    "from keras.models import Sequential\n",
    "from keras.models import Model\n",
    "from keras.layers import Dense\n",
    "from keras.layers import Input\n",
    "from keras.layers import concatenate"
   ]
  },
  {
   "cell_type": "markdown",
   "metadata": {},
   "source": [
    "1) Normalizing features to 0 to 1\n",
    "2) Randomizing and splitting data into training, validation, and testing data\n",
    "3) Creating the architecture and evaluating the accuracy"
   ]
  },
  {
   "cell_type": "code",
   "execution_count": 24,
   "metadata": {
    "scrolled": true
   },
   "outputs": [
    {
     "name": "stdout",
     "output_type": "stream",
     "text": [
      "(2559, 360) (549, 360) (549, 360) (2559,) (549,) (549,)\n",
      "Train on 2559 samples, validate on 549 samples\n",
      "Epoch 1/100\n",
      "2559/2559 [==============================] - 1s 207us/step - loss: 0.4574 - acc: 0.7644 - val_loss: 0.3966 - val_acc: 0.7632\n",
      "Epoch 2/100\n",
      "2559/2559 [==============================] - 0s 30us/step - loss: 0.3770 - acc: 0.7644 - val_loss: 0.3640 - val_acc: 0.7632\n",
      "Epoch 3/100\n",
      "2559/2559 [==============================] - 0s 29us/step - loss: 0.3453 - acc: 0.7644 - val_loss: 0.3317 - val_acc: 0.7632\n",
      "Epoch 4/100\n",
      "2559/2559 [==============================] - 0s 29us/step - loss: 0.3134 - acc: 0.7800 - val_loss: 0.2990 - val_acc: 0.8051\n",
      "Epoch 5/100\n",
      "2559/2559 [==============================] - 0s 29us/step - loss: 0.2841 - acc: 0.8335 - val_loss: 0.2722 - val_acc: 0.8342\n",
      "Epoch 6/100\n",
      "2559/2559 [==============================] - 0s 29us/step - loss: 0.2614 - acc: 0.8718 - val_loss: 0.2514 - val_acc: 0.8944\n",
      "Epoch 7/100\n",
      "2559/2559 [==============================] - 0s 31us/step - loss: 0.2441 - acc: 0.9031 - val_loss: 0.2355 - val_acc: 0.9053\n",
      "Epoch 8/100\n",
      "2559/2559 [==============================] - 0s 30us/step - loss: 0.2307 - acc: 0.9207 - val_loss: 0.2227 - val_acc: 0.9235\n",
      "Epoch 9/100\n",
      "2559/2559 [==============================] - 0s 29us/step - loss: 0.2196 - acc: 0.9316 - val_loss: 0.2122 - val_acc: 0.9344\n",
      "Epoch 10/100\n",
      "2559/2559 [==============================] - 0s 31us/step - loss: 0.2102 - acc: 0.9359 - val_loss: 0.2031 - val_acc: 0.9417\n",
      "Epoch 11/100\n",
      "2559/2559 [==============================] - 0s 29us/step - loss: 0.2019 - acc: 0.9422 - val_loss: 0.1951 - val_acc: 0.9417\n",
      "Epoch 12/100\n",
      "2559/2559 [==============================] - 0s 27us/step - loss: 0.1945 - acc: 0.9441 - val_loss: 0.1875 - val_acc: 0.9435\n",
      "Epoch 13/100\n",
      "2559/2559 [==============================] - 0s 28us/step - loss: 0.1878 - acc: 0.9472 - val_loss: 0.1809 - val_acc: 0.9508\n",
      "Epoch 14/100\n",
      "2559/2559 [==============================] - 0s 28us/step - loss: 0.1815 - acc: 0.9496 - val_loss: 0.1743 - val_acc: 0.9581\n",
      "Epoch 15/100\n",
      "2559/2559 [==============================] - 0s 28us/step - loss: 0.1756 - acc: 0.9508 - val_loss: 0.1683 - val_acc: 0.9581\n",
      "Epoch 16/100\n",
      "2559/2559 [==============================] - 0s 28us/step - loss: 0.1702 - acc: 0.9543 - val_loss: 0.1629 - val_acc: 0.9599\n",
      "Epoch 17/100\n",
      "2559/2559 [==============================] - 0s 29us/step - loss: 0.1649 - acc: 0.9543 - val_loss: 0.1575 - val_acc: 0.9581\n",
      "Epoch 18/100\n",
      "2559/2559 [==============================] - 0s 29us/step - loss: 0.1601 - acc: 0.9582 - val_loss: 0.1526 - val_acc: 0.9599\n",
      "Epoch 19/100\n",
      "2559/2559 [==============================] - 0s 29us/step - loss: 0.1554 - acc: 0.9597 - val_loss: 0.1480 - val_acc: 0.9617\n",
      "Epoch 20/100\n",
      "2559/2559 [==============================] - 0s 30us/step - loss: 0.1509 - acc: 0.9609 - val_loss: 0.1433 - val_acc: 0.9636\n",
      "Epoch 21/100\n",
      "2559/2559 [==============================] - 0s 29us/step - loss: 0.1465 - acc: 0.9625 - val_loss: 0.1389 - val_acc: 0.9654\n",
      "Epoch 22/100\n",
      "2559/2559 [==============================] - 0s 28us/step - loss: 0.1424 - acc: 0.9644 - val_loss: 0.1349 - val_acc: 0.9654\n",
      "Epoch 23/100\n",
      "2559/2559 [==============================] - 0s 30us/step - loss: 0.1386 - acc: 0.9652 - val_loss: 0.1309 - val_acc: 0.9672\n",
      "Epoch 24/100\n",
      "2559/2559 [==============================] - 0s 30us/step - loss: 0.1347 - acc: 0.9668 - val_loss: 0.1271 - val_acc: 0.9672\n",
      "Epoch 25/100\n",
      "2559/2559 [==============================] - 0s 30us/step - loss: 0.1311 - acc: 0.9680 - val_loss: 0.1235 - val_acc: 0.9672\n",
      "Epoch 26/100\n",
      "2559/2559 [==============================] - 0s 30us/step - loss: 0.1274 - acc: 0.9680 - val_loss: 0.1200 - val_acc: 0.9690\n",
      "Epoch 27/100\n",
      "2559/2559 [==============================] - 0s 29us/step - loss: 0.1241 - acc: 0.9691 - val_loss: 0.1169 - val_acc: 0.9672\n",
      "Epoch 28/100\n",
      "2559/2559 [==============================] - 0s 30us/step - loss: 0.1208 - acc: 0.9719 - val_loss: 0.1135 - val_acc: 0.9672\n",
      "Epoch 29/100\n",
      "2559/2559 [==============================] - 0s 30us/step - loss: 0.1174 - acc: 0.9707 - val_loss: 0.1106 - val_acc: 0.9672\n",
      "Epoch 30/100\n",
      "2559/2559 [==============================] - 0s 30us/step - loss: 0.1145 - acc: 0.9719 - val_loss: 0.1076 - val_acc: 0.9672\n",
      "Epoch 31/100\n",
      "2559/2559 [==============================] - 0s 30us/step - loss: 0.1115 - acc: 0.9715 - val_loss: 0.1048 - val_acc: 0.9709\n",
      "Epoch 32/100\n",
      "2559/2559 [==============================] - 0s 28us/step - loss: 0.1087 - acc: 0.9726 - val_loss: 0.1020 - val_acc: 0.9745\n",
      "Epoch 33/100\n",
      "2559/2559 [==============================] - 0s 30us/step - loss: 0.1058 - acc: 0.9742 - val_loss: 0.0992 - val_acc: 0.9745\n",
      "Epoch 34/100\n",
      "2559/2559 [==============================] - 0s 30us/step - loss: 0.1030 - acc: 0.9754 - val_loss: 0.0968 - val_acc: 0.9763\n",
      "Epoch 35/100\n",
      "2559/2559 [==============================] - 0s 30us/step - loss: 0.1004 - acc: 0.9766 - val_loss: 0.0942 - val_acc: 0.9781\n",
      "Epoch 36/100\n",
      "2559/2559 [==============================] - 0s 28us/step - loss: 0.0977 - acc: 0.9762 - val_loss: 0.0921 - val_acc: 0.9818\n",
      "Epoch 37/100\n",
      "2559/2559 [==============================] - 0s 30us/step - loss: 0.0953 - acc: 0.9801 - val_loss: 0.0898 - val_acc: 0.9818\n",
      "Epoch 38/100\n",
      "2559/2559 [==============================] - 0s 30us/step - loss: 0.0928 - acc: 0.9801 - val_loss: 0.0873 - val_acc: 0.9818\n",
      "Epoch 39/100\n",
      "2559/2559 [==============================] - 0s 29us/step - loss: 0.0903 - acc: 0.9812 - val_loss: 0.0852 - val_acc: 0.9818\n",
      "Epoch 40/100\n",
      "2559/2559 [==============================] - 0s 29us/step - loss: 0.0881 - acc: 0.9824 - val_loss: 0.0828 - val_acc: 0.9818\n",
      "Epoch 41/100\n",
      "2559/2559 [==============================] - 0s 28us/step - loss: 0.0858 - acc: 0.9840 - val_loss: 0.0808 - val_acc: 0.9836\n",
      "Epoch 42/100\n",
      "2559/2559 [==============================] - 0s 30us/step - loss: 0.0836 - acc: 0.9855 - val_loss: 0.0788 - val_acc: 0.9854\n",
      "Epoch 43/100\n",
      "2559/2559 [==============================] - 0s 29us/step - loss: 0.0815 - acc: 0.9867 - val_loss: 0.0769 - val_acc: 0.9854\n",
      "Epoch 44/100\n",
      "2559/2559 [==============================] - 0s 30us/step - loss: 0.0794 - acc: 0.9863 - val_loss: 0.0750 - val_acc: 0.9872\n",
      "Epoch 45/100\n",
      "2559/2559 [==============================] - 0s 28us/step - loss: 0.0775 - acc: 0.9883 - val_loss: 0.0732 - val_acc: 0.9872\n",
      "Epoch 46/100\n",
      "2559/2559 [==============================] - 0s 30us/step - loss: 0.0754 - acc: 0.9875 - val_loss: 0.0717 - val_acc: 0.9891\n",
      "Epoch 47/100\n",
      "2559/2559 [==============================] - 0s 30us/step - loss: 0.0736 - acc: 0.9910 - val_loss: 0.0698 - val_acc: 0.9891\n",
      "Epoch 48/100\n",
      "2559/2559 [==============================] - 0s 30us/step - loss: 0.0717 - acc: 0.9894 - val_loss: 0.0682 - val_acc: 0.9891\n",
      "Epoch 49/100\n",
      "2559/2559 [==============================] - 0s 28us/step - loss: 0.0699 - acc: 0.9910 - val_loss: 0.0671 - val_acc: 0.9891\n",
      "Epoch 50/100\n",
      "2559/2559 [==============================] - 0s 30us/step - loss: 0.0683 - acc: 0.9922 - val_loss: 0.0652 - val_acc: 0.9909\n",
      "Epoch 51/100\n",
      "2559/2559 [==============================] - 0s 30us/step - loss: 0.0667 - acc: 0.9926 - val_loss: 0.0641 - val_acc: 0.9909\n",
      "Epoch 52/100\n",
      "2559/2559 [==============================] - 0s 30us/step - loss: 0.0650 - acc: 0.9926 - val_loss: 0.0624 - val_acc: 0.9927\n",
      "Epoch 53/100\n",
      "2559/2559 [==============================] - 0s 29us/step - loss: 0.0634 - acc: 0.9926 - val_loss: 0.0611 - val_acc: 0.9927\n",
      "Epoch 54/100\n",
      "2559/2559 [==============================] - 0s 29us/step - loss: 0.0621 - acc: 0.9926 - val_loss: 0.0600 - val_acc: 0.9909\n",
      "Epoch 55/100\n",
      "2559/2559 [==============================] - 0s 30us/step - loss: 0.0606 - acc: 0.9930 - val_loss: 0.0587 - val_acc: 0.9909\n",
      "Epoch 56/100\n",
      "2559/2559 [==============================] - 0s 29us/step - loss: 0.0592 - acc: 0.9930 - val_loss: 0.0574 - val_acc: 0.9909\n",
      "Epoch 57/100\n",
      "2559/2559 [==============================] - 0s 29us/step - loss: 0.0578 - acc: 0.9934 - val_loss: 0.0563 - val_acc: 0.9927\n",
      "Epoch 58/100\n",
      "2559/2559 [==============================] - 0s 28us/step - loss: 0.0565 - acc: 0.9937 - val_loss: 0.0556 - val_acc: 0.9927\n",
      "Epoch 59/100\n",
      "2559/2559 [==============================] - 0s 29us/step - loss: 0.0553 - acc: 0.9937 - val_loss: 0.0542 - val_acc: 0.9909\n",
      "Epoch 60/100\n",
      "2559/2559 [==============================] - 0s 30us/step - loss: 0.0540 - acc: 0.9941 - val_loss: 0.0535 - val_acc: 0.9927\n",
      "Epoch 61/100\n",
      "2559/2559 [==============================] - 0s 31us/step - loss: 0.0529 - acc: 0.9937 - val_loss: 0.0524 - val_acc: 0.9927\n",
      "Epoch 62/100\n",
      "2559/2559 [==============================] - 0s 29us/step - loss: 0.0517 - acc: 0.9941 - val_loss: 0.0514 - val_acc: 0.9927\n",
      "Epoch 63/100\n",
      "2559/2559 [==============================] - 0s 30us/step - loss: 0.0507 - acc: 0.9941 - val_loss: 0.0507 - val_acc: 0.9927\n",
      "Epoch 64/100\n",
      "2559/2559 [==============================] - 0s 30us/step - loss: 0.0496 - acc: 0.9941 - val_loss: 0.0496 - val_acc: 0.9927\n",
      "Epoch 65/100\n",
      "2559/2559 [==============================] - 0s 29us/step - loss: 0.0486 - acc: 0.9941 - val_loss: 0.0489 - val_acc: 0.9927\n",
      "Epoch 66/100\n",
      "2559/2559 [==============================] - 0s 30us/step - loss: 0.0476 - acc: 0.9941 - val_loss: 0.0481 - val_acc: 0.9945\n",
      "Epoch 67/100\n",
      "2559/2559 [==============================] - 0s 28us/step - loss: 0.0466 - acc: 0.9945 - val_loss: 0.0473 - val_acc: 0.9927\n",
      "Epoch 68/100\n",
      "2559/2559 [==============================] - 0s 31us/step - loss: 0.0457 - acc: 0.9945 - val_loss: 0.0465 - val_acc: 0.9927\n",
      "Epoch 69/100\n",
      "2559/2559 [==============================] - 0s 30us/step - loss: 0.0448 - acc: 0.9945 - val_loss: 0.0458 - val_acc: 0.9945\n",
      "Epoch 70/100\n",
      "2559/2559 [==============================] - 0s 29us/step - loss: 0.0438 - acc: 0.9953 - val_loss: 0.0451 - val_acc: 0.9945\n",
      "Epoch 71/100\n",
      "2559/2559 [==============================] - 0s 29us/step - loss: 0.0429 - acc: 0.9957 - val_loss: 0.0444 - val_acc: 0.9927\n",
      "Epoch 72/100\n",
      "2559/2559 [==============================] - 0s 29us/step - loss: 0.0423 - acc: 0.9961 - val_loss: 0.0439 - val_acc: 0.9945\n",
      "Epoch 73/100\n",
      "2559/2559 [==============================] - 0s 31us/step - loss: 0.0414 - acc: 0.9957 - val_loss: 0.0431 - val_acc: 0.9945\n",
      "Epoch 74/100\n",
      "2559/2559 [==============================] - 0s 30us/step - loss: 0.0407 - acc: 0.9961 - val_loss: 0.0426 - val_acc: 0.9945\n",
      "Epoch 75/100\n",
      "2559/2559 [==============================] - 0s 30us/step - loss: 0.0398 - acc: 0.9961 - val_loss: 0.0420 - val_acc: 0.9945\n",
      "Epoch 76/100\n",
      "2559/2559 [==============================] - 0s 28us/step - loss: 0.0391 - acc: 0.9961 - val_loss: 0.0415 - val_acc: 0.9945\n",
      "Epoch 77/100\n",
      "2559/2559 [==============================] - 0s 30us/step - loss: 0.0384 - acc: 0.9961 - val_loss: 0.0409 - val_acc: 0.9945\n",
      "Epoch 78/100\n",
      "2559/2559 [==============================] - 0s 29us/step - loss: 0.0377 - acc: 0.9965 - val_loss: 0.0404 - val_acc: 0.9945\n",
      "Epoch 79/100\n",
      "2559/2559 [==============================] - 0s 29us/step - loss: 0.0371 - acc: 0.9961 - val_loss: 0.0399 - val_acc: 0.9945\n",
      "Epoch 80/100\n",
      "2559/2559 [==============================] - 0s 28us/step - loss: 0.0363 - acc: 0.9961 - val_loss: 0.0394 - val_acc: 0.9945\n",
      "Epoch 81/100\n",
      "2559/2559 [==============================] - 0s 29us/step - loss: 0.0358 - acc: 0.9965 - val_loss: 0.0392 - val_acc: 0.9945\n",
      "Epoch 82/100\n",
      "2559/2559 [==============================] - 0s 31us/step - loss: 0.0352 - acc: 0.9969 - val_loss: 0.0388 - val_acc: 0.9945\n",
      "Epoch 83/100\n",
      "2559/2559 [==============================] - 0s 29us/step - loss: 0.0346 - acc: 0.9965 - val_loss: 0.0383 - val_acc: 0.9945\n",
      "Epoch 84/100\n",
      "2559/2559 [==============================] - 0s 30us/step - loss: 0.0341 - acc: 0.9965 - val_loss: 0.0379 - val_acc: 0.9945\n",
      "Epoch 85/100\n",
      "2559/2559 [==============================] - 0s 28us/step - loss: 0.0335 - acc: 0.9977 - val_loss: 0.0375 - val_acc: 0.9945\n",
      "Epoch 86/100\n",
      "2559/2559 [==============================] - 0s 31us/step - loss: 0.0329 - acc: 0.9977 - val_loss: 0.0370 - val_acc: 0.9945\n",
      "Epoch 87/100\n",
      "2559/2559 [==============================] - 0s 30us/step - loss: 0.0323 - acc: 0.9977 - val_loss: 0.0364 - val_acc: 0.9945\n",
      "Epoch 88/100\n",
      "2559/2559 [==============================] - 0s 29us/step - loss: 0.0317 - acc: 0.9969 - val_loss: 0.0371 - val_acc: 0.9927\n",
      "Epoch 89/100\n",
      "2559/2559 [==============================] - 0s 30us/step - loss: 0.0314 - acc: 0.9973 - val_loss: 0.0357 - val_acc: 0.9945\n",
      "Epoch 90/100\n",
      "2559/2559 [==============================] - 0s 32us/step - loss: 0.0309 - acc: 0.9977 - val_loss: 0.0356 - val_acc: 0.9945\n",
      "Epoch 91/100\n",
      "2559/2559 [==============================] - 0s 30us/step - loss: 0.0304 - acc: 0.9973 - val_loss: 0.0352 - val_acc: 0.9945\n",
      "Epoch 92/100\n",
      "2559/2559 [==============================] - 0s 29us/step - loss: 0.0299 - acc: 0.9977 - val_loss: 0.0354 - val_acc: 0.9945\n",
      "Epoch 93/100\n",
      "2559/2559 [==============================] - 0s 29us/step - loss: 0.0295 - acc: 0.9980 - val_loss: 0.0348 - val_acc: 0.9945\n",
      "Epoch 94/100\n",
      "2559/2559 [==============================] - 0s 29us/step - loss: 0.0290 - acc: 0.9984 - val_loss: 0.0347 - val_acc: 0.9945\n",
      "Epoch 95/100\n",
      "2559/2559 [==============================] - 0s 30us/step - loss: 0.0285 - acc: 0.9988 - val_loss: 0.0338 - val_acc: 0.9945\n",
      "Epoch 96/100\n",
      "2559/2559 [==============================] - 0s 30us/step - loss: 0.0282 - acc: 0.9984 - val_loss: 0.0338 - val_acc: 0.9945\n",
      "Epoch 97/100\n",
      "2559/2559 [==============================] - 0s 30us/step - loss: 0.0278 - acc: 0.9988 - val_loss: 0.0334 - val_acc: 0.9945\n",
      "Epoch 98/100\n",
      "2559/2559 [==============================] - 0s 28us/step - loss: 0.0274 - acc: 0.9988 - val_loss: 0.0331 - val_acc: 0.9945\n",
      "Epoch 99/100\n",
      "2559/2559 [==============================] - 0s 30us/step - loss: 0.0270 - acc: 0.9984 - val_loss: 0.0328 - val_acc: 0.9945\n",
      "Epoch 100/100\n",
      "2559/2559 [==============================] - 0s 29us/step - loss: 0.0267 - acc: 0.9992 - val_loss: 0.0326 - val_acc: 0.9945\n",
      "549/549 [==============================] - 0s 16us/step\n"
     ]
    },
    {
     "data": {
      "text/plain": [
       "0.9981785063752276"
      ]
     },
     "execution_count": 24,
     "metadata": {},
     "output_type": "execute_result"
    }
   ],
   "source": [
    "\n",
    "# univariate cnn example\n",
    "from numpy import array\n",
    "from keras.models import Sequential\n",
    "from keras.layers import Dense\n",
    "from keras.layers import Flatten\n",
    "from keras.layers import Dropout\n",
    "from keras.layers.convolutional import Conv1D\n",
    "from keras.layers.convolutional import MaxPooling1D\n",
    "\n",
    "#1\n",
    "from sklearn import preprocessing\n",
    "min_max_scaler = preprocessing.MinMaxScaler()\n",
    "X_scale = min_max_scaler.fit_transform(ZZZ)\n",
    "\n",
    "\n",
    "#2\n",
    "from sklearn.model_selection import train_test_split\n",
    "X_train, X_val_and_test, Y_train, Y_val_and_test = train_test_split(X_scale, Y, test_size=0.3)\n",
    "X_val, X_test, Y_val, Y_test = train_test_split(X_val_and_test, Y_val_and_test, test_size=0.5)\n",
    "print(X_train.shape, X_val.shape, X_test.shape, Y_train.shape, Y_val.shape, Y_test.shape)\n",
    "\n",
    "model = Sequential([    Dense(2, activation='relu', input_shape=(360,)),    Dense(2, activation='relu'),    Dense(1, activation='sigmoid'),])\n",
    "model.compile(optimizer='sgd',              loss='binary_crossentropy',              metrics=['accuracy'])\n",
    "hist = model.fit(X_train, Y_train,          batch_size=32, epochs=100,          validation_data=(X_val, Y_val))\n",
    "model.evaluate(X_test, Y_test)[1]    "
   ]
  },
  {
   "cell_type": "markdown",
   "metadata": {},
   "source": [
    "Saved Model to Disk"
   ]
  },
  {
   "cell_type": "code",
   "execution_count": 19,
   "metadata": {},
   "outputs": [],
   "source": [
    "# serialize model to JSON\n",
    "model_json = model.to_json()\n",
    "with open(\"model.json\", \"w\") as json_file:\n",
    "    json_file.write(model_json)\n",
    "# serialize weights to HDF5\n",
    "model.save_weights(\"model.h5\")\n",
    "#print(\"Saved model to disk\")"
   ]
  },
  {
   "cell_type": "markdown",
   "metadata": {},
   "source": [
    "Create arrays to pass into the confusion matrix that contain the model's predicted values and the correct values."
   ]
  },
  {
   "cell_type": "code",
   "execution_count": 20,
   "metadata": {},
   "outputs": [],
   "source": [
    "from sklearn.metrics import confusion_matrix\n",
    "\n",
    "yhat_classes = model.predict_classes(X_test, verbose=0)\n",
    "OPE = pd.DataFrame(yhat_classes)\n",
    "OPEE = np.around(OPE,decimals=0)\n",
    "OOPEE = OPEE.astype(int) #round predicted values to integer values (0 or 1)\n",
    "Yhat = OOPEE.values\n",
    "Yhat = Yhat.reshape(1, -1)\n",
    "Y_HatHat = np.concatenate(Yhat)\n",
    "\n",
    "y_pred = Y_HatHat.astype(int) #predicted values array\n",
    "y_true = Y_test.astype(int) #correct values array\n"
   ]
  },
  {
   "cell_type": "markdown",
   "metadata": {},
   "source": [
    "Create confusion matrix for a visual representation of the model's accuracy."
   ]
  },
  {
   "cell_type": "code",
   "execution_count": 22,
   "metadata": {},
   "outputs": [
    {
     "name": "stdout",
     "output_type": "stream",
     "text": [
      "Confusion matrix, without normalization\n",
      "[[139   0]\n",
      " [  6 404]]\n",
      "Normalized confusion matrix\n",
      "[[1.   0.  ]\n",
      " [0.01 0.99]]\n"
     ]
    },
    {
     "data": {
      "image/png": "[encoded data removed]",
      "text/plain": [
       "<Figure size 432x288 with 2 Axes>"
      ]
     },
     "metadata": {
      "needs_background": "light"
     },
     "output_type": "display_data"
    },
    {
     "data": {
      "image/png": "[encoded data removed]",
      "text/plain": [
       "<Figure size 432x288 with 2 Axes>"
      ]
     },
     "metadata": {
      "needs_background": "light"
     },
     "output_type": "display_data"
    }
   ],
   "source": [
    "import numpy as np\n",
    "import matplotlib.pyplot as plt\n",
    "from sklearn import svm, datasets\n",
    "from sklearn.model_selection import train_test_split\n",
    "from sklearn.metrics import confusion_matrix\n",
    "from sklearn.utils.multiclass import unique_labels\n",
    "\n",
    "iris = datasets.load_iris() #dataset used to create unoccupied and occupied labels\n",
    "iris.target_names[0] = 'unoccupied'\n",
    "iris.target_names[1] = 'occupied'\n",
    "class_names = iris.target_names\n",
    "\n",
    "#used tensorflow function to print and plot the confusion matrix with the option of normalization\n",
    "def plot_confusion_matrix(y_true, y_pred, classes,\n",
    "                          normalize=False,\n",
    "                          title=None,\n",
    "                          cmap=plt.cm.Blues):\n",
    "    if not title:\n",
    "        if normalize:\n",
    "            title = 'Normalized confusion matrix'\n",
    "        else:\n",
    "            title = 'Confusion matrix, without normalization'\n",
    "            \n",
    "    cm = confusion_matrix(y_true, y_pred) #compute confusion matrix\n",
    "    #classes = [1,2,3,4]\n",
    "    \n",
    "    if normalize:\n",
    "        cm = cm.astype('float') / cm.sum(axis=1)[:, np.newaxis] #creates normalized matrix\n",
    "        print(\"Normalized confusion matrix\")\n",
    "    else:\n",
    "        print('Confusion matrix, without normalization')\n",
    "\n",
    "    print(cm)\n",
    "\n",
    "    fig, ax = plt.subplots() #plots confusion matrix using imshow\n",
    "    im = ax.imshow(cm, interpolation='nearest', cmap=cmap)\n",
    "    ax.figure.colorbar(im, ax=ax)\n",
    "    ax.set(xticks=np.arange(cm.shape[1]),\n",
    "           yticks=np.arange(cm.shape[0]),\n",
    "           xticklabels=classes, yticklabels=classes, #add ticks and labels to the plot\n",
    "           title=title,\n",
    "           ylabel='True label',\n",
    "           xlabel='Predicted label')\n",
    "    plt.setp(ax.get_xticklabels(), rotation=45, ha=\"right\",\n",
    "             rotation_mode=\"anchor\")\n",
    "\n",
    "    fmt = '.2f' if normalize else 'd'  #add text annotations\n",
    "    thresh = cm.max() / 2.\n",
    "    for i in range(cm.shape[0]):\n",
    "        for j in range(cm.shape[1]):\n",
    "            ax.text(j, i, format(cm[i, j], fmt),\n",
    "                    ha=\"center\", va=\"center\",\n",
    "                    color=\"white\" if cm[i, j] > thresh else \"black\")\n",
    "    fig.tight_layout()\n",
    "    return ax\n",
    "\n",
    "\n",
    "np.set_printoptions(precision=2)\n",
    "\n",
    "plot_confusion_matrix(y_true, y_pred, classes=class_names,\n",
    "                      title='Confusion matrix, without normalization') #not normalized confusion matrix\n",
    "\n",
    "plot_confusion_matrix(y_true, y_pred, classes=class_names, normalize=True,\n",
    "                      title='Normalized confusion matrix') #normalized confusion matrix\n",
    "\n",
    "plt.show()"
   ]
  },
  {
   "cell_type": "markdown",
   "metadata": {},
   "source": [
    "Create report with f1 score"
   ]
  },
  {
   "cell_type": "code",
   "execution_count": 13,
   "metadata": {},
   "outputs": [
    {
     "name": "stdout",
     "output_type": "stream",
     "text": [
      "              precision    recall  f1-score   support\n",
      "\n",
      "           0       0.95      1.00      0.97       117\n",
      "           1       1.00      0.99      0.99       432\n",
      "\n",
      "    accuracy                           0.99       549\n",
      "   macro avg       0.98      0.99      0.98       549\n",
      "weighted avg       0.99      0.99      0.99       549\n",
      "\n"
     ]
    }
   ],
   "source": [
    "from sklearn.metrics import f1_score\n",
    "from sklearn.metrics import classification_report\n",
    "\n",
    "print(classification_report(y_true, y_pred))"
   ]
  },
  {
   "cell_type": "markdown",
   "metadata": {},
   "source": [
    "Next two cells work to show our model visually:"
   ]
  },
  {
   "cell_type": "code",
   "execution_count": 14,
   "metadata": {
    "scrolled": true
   },
   "outputs": [
    {
     "name": "stdout",
     "output_type": "stream",
     "text": [
      "_________________________________________________________________\n",
      "Layer (type)                 Output Shape              Param #   \n",
      "=================================================================\n",
      "dense_4 (Dense)              (None, 2)                 722       \n",
      "_________________________________________________________________\n",
      "dense_5 (Dense)              (None, 2)                 6         \n",
      "_________________________________________________________________\n",
      "dense_6 (Dense)              (None, 1)                 3         \n",
      "=================================================================\n",
      "Total params: 731\n",
      "Trainable params: 731\n",
      "Non-trainable params: 0\n",
      "_________________________________________________________________\n",
      "None\n"
     ]
    }
   ],
   "source": [
    "#used to show our model visually\n",
    "print(model.summary())"
   ]
  },
  {
   "cell_type": "code",
   "execution_count": 15,
   "metadata": {},
   "outputs": [],
   "source": [
    "from keras.utils import plot_model\n",
    "plot_model(model, to_file='model_plot.png', show_shapes=True, show_layer_names=True) #file in folder CSV_Files"
   ]
  },
  {
   "cell_type": "markdown",
   "metadata": {},
   "source": [
    "Visualizing loss and accuracy to see if there is overfitting in our data (tutorial):"
   ]
  },
  {
   "cell_type": "code",
   "execution_count": 16,
   "metadata": {},
   "outputs": [
    {
     "data": {
      "image/png": "[encoded data removed]",
      "text/plain": [
       "<Figure size 432x288 with 1 Axes>"
      ]
     },
     "metadata": {
      "needs_background": "light"
     },
     "output_type": "display_data"
    }
   ],
   "source": [
    "import matplotlib.pyplot as plt\n",
    "plt.plot(hist.history['loss'])\n",
    "plt.plot(hist.history['val_loss'])\n",
    "plt.title('Model loss')\n",
    "plt.ylabel('Loss')\n",
    "plt.xlabel('Epoch')\n",
    "plt.legend(['Train', 'Val'], loc='upper right')\n",
    "plt.show()\n"
   ]
  },
  {
   "cell_type": "code",
   "execution_count": 17,
   "metadata": {},
   "outputs": [
    {
     "data": {
      "image/png": "[encoded data removed]",
      "text/plain": [
       "<Figure size 432x288 with 1 Axes>"
      ]
     },
     "metadata": {
      "needs_background": "light"
     },
     "output_type": "display_data"
    }
   ],
   "source": [
    "plt.plot(hist.history['acc'])\n",
    "plt.plot(hist.history['val_acc'])\n",
    "plt.title('Model accuracy')\n",
    "plt.ylabel('Accuracy')\n",
    "plt.xlabel('Epoch')\n",
    "plt.legend(['Train', 'Val'], loc='lower right')\n",
    "plt.show()"
   ]
  },
  {
   "cell_type": "code",
   "execution_count": null,
   "metadata": {},
   "outputs": [],
   "source": []
  },
  {
   "cell_type": "code",
   "execution_count": null,
   "metadata": {},
   "outputs": [],
   "source": []
  }
 ],
 "metadata": {
  "kernelspec": {
   "display_name": "Python 3",
   "language": "python",
   "name": "python3"
  },
  "language_info": {
   "codemirror_mode": {
    "name": "ipython",
    "version": 3
   },
   "file_extension": ".py",
   "mimetype": "text/x-python",
   "name": "python",
   "nbconvert_exporter": "python",
   "pygments_lexer": "ipython3",
   "version": "3.7.3"
  }
 },
 "nbformat": 4,
 "nbformat_minor": 2
}
